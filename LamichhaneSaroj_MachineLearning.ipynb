{
 "cells": [
  {
   "cell_type": "markdown",
   "id": "f12c34ca",
   "metadata": {},
   "source": [
    "## Student Name: Saroj Lamichhane\n",
    "## Machine Learning"
   ]
  },
  {
   "cell_type": "markdown",
   "id": "31e70ae9",
   "metadata": {},
   "source": [
    "### Answer Q2:"
   ]
  },
  {
   "cell_type": "code",
   "execution_count": 1,
   "id": "2e54a213",
   "metadata": {},
   "outputs": [],
   "source": [
    "#import Libraries: pandas, numpy and matplotlib\n",
    "import pandas as pd\n",
    "import numpy as np\n",
    "import matplotlib.pyplot as plt\n",
    "\n",
    "#import Scikit learn libraries for machine learning\n",
    "from sklearn.model_selection import train_test_split, KFold, GridSearchCV, cross_val_score, cross_val_predict\n",
    "from sklearn.preprocessing import StandardScaler\n",
    "from sklearn.preprocessing import MinMaxScaler\n",
    "\n",
    "#import roc score and plot library\n",
    "from sklearn.metrics import roc_auc_score, plot_roc_curve\n",
    "\n",
    "#import machine learning libraries: linear regression, random forest, support vector machine and neural network\n",
    "from sklearn.linear_model import LogisticRegression\n",
    "from sklearn.ensemble import RandomForestClassifier\n",
    "from sklearn.svm import SVC\n",
    "from sklearn.neural_network import MLPClassifier\n",
    "\n",
    "#import classification report, confusion matric and confusion matrix display\n",
    "from sklearn.metrics import classification_report, confusion_matrix, ConfusionMatrixDisplay"
   ]
  },
  {
   "cell_type": "code",
   "execution_count": 2,
   "id": "4e5bce12",
   "metadata": {},
   "outputs": [
    {
     "data": {
      "text/html": [
       "<div>\n",
       "<style scoped>\n",
       "    .dataframe tbody tr th:only-of-type {\n",
       "        vertical-align: middle;\n",
       "    }\n",
       "\n",
       "    .dataframe tbody tr th {\n",
       "        vertical-align: top;\n",
       "    }\n",
       "\n",
       "    .dataframe thead th {\n",
       "        text-align: right;\n",
       "    }\n",
       "</style>\n",
       "<table border=\"1\" class=\"dataframe\">\n",
       "  <thead>\n",
       "    <tr style=\"text-align: right;\">\n",
       "      <th></th>\n",
       "      <th>Unnamed: 0</th>\n",
       "      <th>Age</th>\n",
       "      <th>Year</th>\n",
       "      <th>Auxillary nodes</th>\n",
       "      <th>Survival</th>\n",
       "    </tr>\n",
       "  </thead>\n",
       "  <tbody>\n",
       "    <tr>\n",
       "      <th>0</th>\n",
       "      <td>0</td>\n",
       "      <td>30</td>\n",
       "      <td>62</td>\n",
       "      <td>3</td>\n",
       "      <td>1</td>\n",
       "    </tr>\n",
       "    <tr>\n",
       "      <th>1</th>\n",
       "      <td>1</td>\n",
       "      <td>30</td>\n",
       "      <td>65</td>\n",
       "      <td>0</td>\n",
       "      <td>1</td>\n",
       "    </tr>\n",
       "    <tr>\n",
       "      <th>2</th>\n",
       "      <td>2</td>\n",
       "      <td>31</td>\n",
       "      <td>59</td>\n",
       "      <td>2</td>\n",
       "      <td>1</td>\n",
       "    </tr>\n",
       "    <tr>\n",
       "      <th>3</th>\n",
       "      <td>3</td>\n",
       "      <td>31</td>\n",
       "      <td>65</td>\n",
       "      <td>4</td>\n",
       "      <td>1</td>\n",
       "    </tr>\n",
       "    <tr>\n",
       "      <th>4</th>\n",
       "      <td>4</td>\n",
       "      <td>33</td>\n",
       "      <td>58</td>\n",
       "      <td>10</td>\n",
       "      <td>1</td>\n",
       "    </tr>\n",
       "    <tr>\n",
       "      <th>...</th>\n",
       "      <td>...</td>\n",
       "      <td>...</td>\n",
       "      <td>...</td>\n",
       "      <td>...</td>\n",
       "      <td>...</td>\n",
       "    </tr>\n",
       "    <tr>\n",
       "      <th>260</th>\n",
       "      <td>300</td>\n",
       "      <td>75</td>\n",
       "      <td>62</td>\n",
       "      <td>1</td>\n",
       "      <td>1</td>\n",
       "    </tr>\n",
       "    <tr>\n",
       "      <th>261</th>\n",
       "      <td>301</td>\n",
       "      <td>76</td>\n",
       "      <td>67</td>\n",
       "      <td>0</td>\n",
       "      <td>1</td>\n",
       "    </tr>\n",
       "    <tr>\n",
       "      <th>262</th>\n",
       "      <td>302</td>\n",
       "      <td>77</td>\n",
       "      <td>65</td>\n",
       "      <td>3</td>\n",
       "      <td>1</td>\n",
       "    </tr>\n",
       "    <tr>\n",
       "      <th>263</th>\n",
       "      <td>303</td>\n",
       "      <td>78</td>\n",
       "      <td>65</td>\n",
       "      <td>1</td>\n",
       "      <td>2</td>\n",
       "    </tr>\n",
       "    <tr>\n",
       "      <th>264</th>\n",
       "      <td>304</td>\n",
       "      <td>83</td>\n",
       "      <td>58</td>\n",
       "      <td>2</td>\n",
       "      <td>2</td>\n",
       "    </tr>\n",
       "  </tbody>\n",
       "</table>\n",
       "<p>265 rows × 5 columns</p>\n",
       "</div>"
      ],
      "text/plain": [
       "     Unnamed: 0  Age  Year  Auxillary nodes  Survival\n",
       "0             0   30    62                3         1\n",
       "1             1   30    65                0         1\n",
       "2             2   31    59                2         1\n",
       "3             3   31    65                4         1\n",
       "4             4   33    58               10         1\n",
       "..          ...  ...   ...              ...       ...\n",
       "260         300   75    62                1         1\n",
       "261         301   76    67                0         1\n",
       "262         302   77    65                3         1\n",
       "263         303   78    65                1         2\n",
       "264         304   83    58                2         2\n",
       "\n",
       "[265 rows x 5 columns]"
      ]
     },
     "execution_count": 2,
     "metadata": {},
     "output_type": "execute_result"
    }
   ],
   "source": [
    "#import the data\n",
    "data=pd.read_csv(\"FinalEDACancer.csv\")\n",
    "\n",
    "#create the input\n",
    "x=data.drop(columns=[\"Survival\"])\n",
    "\n",
    "#create the output\n",
    "y=data[\"Survival\"]\n",
    "\n",
    "#split the data for training and testing\n",
    "x_train, x_test, y_train, y_test=train_test_split(x, y, random_state=10, train_size=0.75)\n",
    "\n",
    "data\n"
   ]
  },
  {
   "cell_type": "markdown",
   "id": "76c27a95",
   "metadata": {},
   "source": [
    "### Logistic Regression"
   ]
  },
  {
   "cell_type": "code",
   "execution_count": 3,
   "id": "51f9ffd0",
   "metadata": {
    "scrolled": false
   },
   "outputs": [
    {
     "name": "stdout",
     "output_type": "stream",
     "text": [
      "              precision    recall  f1-score   support\n",
      "\n",
      "           1       0.76      1.00      0.86        50\n",
      "           2       1.00      0.06      0.11        17\n",
      "\n",
      "    accuracy                           0.76        67\n",
      "   macro avg       0.88      0.53      0.49        67\n",
      "weighted avg       0.82      0.76      0.67        67\n",
      "\n"
     ]
    },
    {
     "data": {
      "image/png": "[encoded data removed]",
      "text/plain": [
       "<Figure size 432x288 with 2 Axes>"
      ]
     },
     "metadata": {
      "needs_background": "light"
     },
     "output_type": "display_data"
    },
    {
     "data": {
      "image/png": "[encoded data removed]",
      "text/plain": [
       "<Figure size 432x288 with 1 Axes>"
      ]
     },
     "metadata": {
      "needs_background": "light"
     },
     "output_type": "display_data"
    }
   ],
   "source": [
    "#Develop logistic regression\n",
    "\n",
    "#Define the logistic regression model\n",
    "clf = LogisticRegression(solver = \"lbfgs\", penalty = \"l2\", C = 0.01, random_state = 10).fit(x_train, y_train)\n",
    "\n",
    "#get the score for test data\n",
    "clf.score(x_test, y_test)\n",
    "\n",
    "#get the prediction score of test data\n",
    "y_pred=clf.predict(x_test)\n",
    "\n",
    "#label them with appropriate classification name\n",
    "labels=[\"Survived 5 years or longer\", \"Died within 5 year\"]\n",
    "\n",
    "#get the confusion matrix\n",
    "cm=confusion_matrix(y_test, y_pred, labels=clf.classes_)\n",
    "\n",
    "#display the confusion matrix\n",
    "disp=ConfusionMatrixDisplay(confusion_matrix=cm, display_labels=labels)\n",
    "\n",
    "#display the plot\n",
    "disp.plot()\n",
    "\n",
    "#print classification report\n",
    "print(classification_report(y_test, y_pred, labels=clf.classes_))\n",
    "\n",
    "#plot roc curve\n",
    "plot_roc_curve(clf, x_test, y_test)\n",
    "plt.show()"
   ]
  },
  {
   "cell_type": "markdown",
   "id": "6b11d346",
   "metadata": {},
   "source": [
    "### Random Forest"
   ]
  },
  {
   "cell_type": "code",
   "execution_count": 4,
   "id": "a62cf6fd",
   "metadata": {
    "scrolled": false
   },
   "outputs": [
    {
     "name": "stdout",
     "output_type": "stream",
     "text": [
      "              precision    recall  f1-score   support\n",
      "\n",
      "           1       0.76      0.94      0.84        50\n",
      "           2       0.40      0.12      0.18        17\n",
      "\n",
      "    accuracy                           0.73        67\n",
      "   macro avg       0.58      0.53      0.51        67\n",
      "weighted avg       0.67      0.73      0.67        67\n",
      "\n"
     ]
    },
    {
     "data": {
      "image/png": "[encoded data removed]",
      "text/plain": [
       "<Figure size 432x288 with 2 Axes>"
      ]
     },
     "metadata": {
      "needs_background": "light"
     },
     "output_type": "display_data"
    }
   ],
   "source": [
    "#Develop random forest algorithm\n",
    "\n",
    "rf = RandomForestClassifier(n_estimators = 10, max_depth = 5, max_features = \"sqrt\", random_state = 0).fit(x_train, y_train)\n",
    "\n",
    "#make predictions\n",
    "rf_pred = rf.predict(x_test)\n",
    "\n",
    "cm_rf = confusion_matrix(y_test, rf_pred, labels = clf.classes_)\n",
    "\n",
    "disp = ConfusionMatrixDisplay(confusion_matrix = cm_rf, display_labels = labels)\n",
    "disp.plot()\n",
    "\n",
    "print(classification_report(y_test, rf_pred, labels = clf.classes_))"
   ]
  },
  {
   "cell_type": "markdown",
   "id": "69758c92",
   "metadata": {},
   "source": [
    "### Support Vector Machine"
   ]
  },
  {
   "cell_type": "code",
   "execution_count": 5,
   "id": "3ef2147c",
   "metadata": {},
   "outputs": [
    {
     "name": "stdout",
     "output_type": "stream",
     "text": [
      "              precision    recall  f1-score   support\n",
      "\n",
      "           1       0.75      1.00      0.85        50\n",
      "           2       0.00      0.00      0.00        17\n",
      "\n",
      "    accuracy                           0.75        67\n",
      "   macro avg       0.37      0.50      0.43        67\n",
      "weighted avg       0.56      0.75      0.64        67\n",
      "\n"
     ]
    },
    {
     "name": "stderr",
     "output_type": "stream",
     "text": [
      "C:\\Users\\saroj\\anaconda3\\lib\\site-packages\\sklearn\\metrics\\_classification.py:1248: UndefinedMetricWarning: Precision and F-score are ill-defined and being set to 0.0 in labels with no predicted samples. Use `zero_division` parameter to control this behavior.\n",
      "  _warn_prf(average, modifier, msg_start, len(result))\n",
      "C:\\Users\\saroj\\anaconda3\\lib\\site-packages\\sklearn\\metrics\\_classification.py:1248: UndefinedMetricWarning: Precision and F-score are ill-defined and being set to 0.0 in labels with no predicted samples. Use `zero_division` parameter to control this behavior.\n",
      "  _warn_prf(average, modifier, msg_start, len(result))\n",
      "C:\\Users\\saroj\\anaconda3\\lib\\site-packages\\sklearn\\metrics\\_classification.py:1248: UndefinedMetricWarning: Precision and F-score are ill-defined and being set to 0.0 in labels with no predicted samples. Use `zero_division` parameter to control this behavior.\n",
      "  _warn_prf(average, modifier, msg_start, len(result))\n"
     ]
    },
    {
     "data": {
      "image/png": "[encoded data removed]",
      "text/plain": [
       "<Figure size 432x288 with 2 Axes>"
      ]
     },
     "metadata": {
      "needs_background": "light"
     },
     "output_type": "display_data"
    }
   ],
   "source": [
    "#Develop Support Vector Machine\n",
    "svm = SVC(kernel ='linear', gamma = 'auto', C=2).fit(x_train, y_train)\n",
    "\n",
    "svm_pred = svm.predict(x_test)\n",
    "\n",
    "cm_svm = confusion_matrix(y_test, svm_pred, labels = clf.classes_)\n",
    "disp = ConfusionMatrixDisplay(confusion_matrix = cm_svm, display_labels = labels)\n",
    "disp.plot()\n",
    "print(classification_report(y_test, svm_pred, labels = clf.classes_))"
   ]
  },
  {
   "cell_type": "markdown",
   "id": "f37f4dd7",
   "metadata": {},
   "source": [
    "### Neural Network"
   ]
  },
  {
   "cell_type": "code",
   "execution_count": 6,
   "id": "89730e05",
   "metadata": {},
   "outputs": [
    {
     "name": "stdout",
     "output_type": "stream",
     "text": [
      "              precision    recall  f1-score   support\n",
      "\n",
      "           1       0.77      1.00      0.87        50\n",
      "           2       1.00      0.12      0.21        17\n",
      "\n",
      "    accuracy                           0.78        67\n",
      "   macro avg       0.88      0.56      0.54        67\n",
      "weighted avg       0.83      0.78      0.70        67\n",
      "\n"
     ]
    },
    {
     "data": {
      "image/png": "[encoded data removed]",
      "text/plain": [
       "<Figure size 432x288 with 2 Axes>"
      ]
     },
     "metadata": {
      "needs_background": "light"
     },
     "output_type": "display_data"
    }
   ],
   "source": [
    "#develop Newural Network\n",
    "nn = MLPClassifier(solver = \"lbfgs\", alpha=1e-5, hidden_layer_sizes = (15,), random_state = 1, activation = \"relu\", learning_rate_init = 0.001).fit(x_train, y_train)\n",
    "\n",
    "nn_pred = nn.predict(x_test)\n",
    "\n",
    "cm_nn = confusion_matrix(y_test, nn_pred, labels = clf.classes_)\n",
    "disp = ConfusionMatrixDisplay(confusion_matrix = cm_nn, display_labels = labels)\n",
    "disp.plot()\n",
    "print(classification_report(y_test, nn_pred, labels = clf.classes_))\n"
   ]
  },
  {
   "cell_type": "markdown",
   "id": "0baf7b92",
   "metadata": {},
   "source": [
    "### 10-  Fold Cross Validation"
   ]
  },
  {
   "cell_type": "code",
   "execution_count": 7,
   "id": "f6e19304",
   "metadata": {},
   "outputs": [
    {
     "name": "stdout",
     "output_type": "stream",
     "text": [
      "[0.75, 0.7, 0.85, 0.8, 0.8, 0.85, 0.8, 0.85, 0.8421052631578947, 0.6842105263157895]\n"
     ]
    }
   ],
   "source": [
    "#10-Fold Cross Validation for Logistic Regression\n",
    "\n",
    "#split the iteration into 10 fold\n",
    "kf = KFold(n_splits = 10)\n",
    "\n",
    "#assign a variable to get the linear regression score\n",
    "lrscores=[]\n",
    "\n",
    "#assume the iteration starts with 1\n",
    "iteration = 1\n",
    "\n",
    "#use for loop to get the score untill the 10 interations\n",
    "for train_indices, test_indices in kf.split(x_train):\n",
    "    clf.fit(x_train.iloc[train_indices], y_train.iloc[train_indices])\n",
    "    \n",
    "    iteration+=1\n",
    "        \n",
    "    a= clf.score(x_train.iloc[test_indices], y_train.iloc[test_indices])\n",
    "    \n",
    "    lrscores.append(a)\n",
    "    \n",
    "print(lrscores)"
   ]
  },
  {
   "cell_type": "code",
   "execution_count": 8,
   "id": "9775ae73",
   "metadata": {},
   "outputs": [
    {
     "name": "stdout",
     "output_type": "stream",
     "text": [
      "[0.75, 0.7, 0.85, 0.8, 0.8, 0.8, 0.85, 0.7, 0.8947368421052632, 0.6842105263157895]\n"
     ]
    }
   ],
   "source": [
    "#10-Fold Cross Validation for Random Forest\n",
    "\n",
    "rfscores=[]\n",
    "\n",
    "iteration = 1\n",
    "\n",
    "for train_indices, test_indices in kf.split(x_train):\n",
    "    rf.fit(x_train.iloc[train_indices], y_train.iloc[train_indices])\n",
    "    iteration+=1\n",
    "    b= rf.score(x_train.iloc[test_indices], y_train.iloc[test_indices])\n",
    "    \n",
    "    rfscores.append(b)\n",
    "print(rfscores)"
   ]
  },
  {
   "cell_type": "code",
   "execution_count": 9,
   "id": "e75c7eeb",
   "metadata": {},
   "outputs": [],
   "source": [
    "#10-Fold Cross Validation for Support Vector Machine\n",
    "svmscores=[]\n",
    "\n",
    "iteration = 1\n",
    "\n",
    "for train_indices, test_indices in kf.split(x_train):\n",
    "    \n",
    "    svm.fit(x_train.iloc[train_indices], y_train.iloc[train_indices])\n",
    "    \n",
    "    iteration+=1\n",
    "    \n",
    "    c= svm.score(x_train.iloc[test_indices], y_train.iloc[test_indices])\n",
    "    \n",
    "    svmscores.append(c)\n",
    "    \n",
    "print(svmscores)\n",
    "    "
   ]
  },
  {
   "cell_type": "code",
   "execution_count": 10,
   "id": "ab32af6f",
   "metadata": {},
   "outputs": [
    {
     "name": "stderr",
     "output_type": "stream",
     "text": [
      "C:\\Users\\saroj\\anaconda3\\lib\\site-packages\\sklearn\\neural_network\\_multilayer_perceptron.py:500: ConvergenceWarning: lbfgs failed to converge (status=1):\n",
      "STOP: TOTAL NO. of ITERATIONS REACHED LIMIT.\n",
      "\n",
      "Increase the number of iterations (max_iter) or scale the data as shown in:\n",
      "    https://scikit-learn.org/stable/modules/preprocessing.html\n",
      "  self.n_iter_ = _check_optimize_result(\"lbfgs\", opt_res, self.max_iter)\n",
      "C:\\Users\\saroj\\anaconda3\\lib\\site-packages\\sklearn\\neural_network\\_multilayer_perceptron.py:500: ConvergenceWarning: lbfgs failed to converge (status=1):\n",
      "STOP: TOTAL NO. of ITERATIONS REACHED LIMIT.\n",
      "\n",
      "Increase the number of iterations (max_iter) or scale the data as shown in:\n",
      "    https://scikit-learn.org/stable/modules/preprocessing.html\n",
      "  self.n_iter_ = _check_optimize_result(\"lbfgs\", opt_res, self.max_iter)\n",
      "C:\\Users\\saroj\\anaconda3\\lib\\site-packages\\sklearn\\neural_network\\_multilayer_perceptron.py:500: ConvergenceWarning: lbfgs failed to converge (status=1):\n",
      "STOP: TOTAL NO. of ITERATIONS REACHED LIMIT.\n",
      "\n",
      "Increase the number of iterations (max_iter) or scale the data as shown in:\n",
      "    https://scikit-learn.org/stable/modules/preprocessing.html\n",
      "  self.n_iter_ = _check_optimize_result(\"lbfgs\", opt_res, self.max_iter)\n",
      "C:\\Users\\saroj\\anaconda3\\lib\\site-packages\\sklearn\\neural_network\\_multilayer_perceptron.py:500: ConvergenceWarning: lbfgs failed to converge (status=1):\n",
      "STOP: TOTAL NO. of ITERATIONS REACHED LIMIT.\n",
      "\n",
      "Increase the number of iterations (max_iter) or scale the data as shown in:\n",
      "    https://scikit-learn.org/stable/modules/preprocessing.html\n",
      "  self.n_iter_ = _check_optimize_result(\"lbfgs\", opt_res, self.max_iter)\n"
     ]
    },
    {
     "name": "stdout",
     "output_type": "stream",
     "text": [
      "[0.7, 0.75, 0.85, 0.8, 0.85, 0.7, 0.8, 0.85, 0.7894736842105263, 0.7368421052631579]\n"
     ]
    },
    {
     "name": "stderr",
     "output_type": "stream",
     "text": [
      "C:\\Users\\saroj\\anaconda3\\lib\\site-packages\\sklearn\\neural_network\\_multilayer_perceptron.py:500: ConvergenceWarning: lbfgs failed to converge (status=1):\n",
      "STOP: TOTAL NO. of ITERATIONS REACHED LIMIT.\n",
      "\n",
      "Increase the number of iterations (max_iter) or scale the data as shown in:\n",
      "    https://scikit-learn.org/stable/modules/preprocessing.html\n",
      "  self.n_iter_ = _check_optimize_result(\"lbfgs\", opt_res, self.max_iter)\n"
     ]
    }
   ],
   "source": [
    "#10-Fold Cross Validation for Neural Network\n",
    "nnscores=[]\n",
    "iteration = 1\n",
    "for train_indices, test_indices in kf.split(x_train):\n",
    "    nn.fit(x_train.iloc[train_indices], y_train.iloc[train_indices])\n",
    "    \n",
    "    iteration+=1\n",
    "    \n",
    "    d= nn.score(x_train.iloc[test_indices], y_train.iloc[test_indices])\n",
    "    \n",
    "    nnscores.append(d)\n",
    "    \n",
    "print(nnscores)"
   ]
  },
  {
   "cell_type": "markdown",
   "id": "26feb448",
   "metadata": {},
   "source": [
    "### Gridsearch CV"
   ]
  },
  {
   "cell_type": "code",
   "execution_count": 20,
   "id": "1eed5902",
   "metadata": {
    "scrolled": true
   },
   "outputs": [
    {
     "name": "stderr",
     "output_type": "stream",
     "text": [
      "C:\\Users\\saroj\\anaconda3\\lib\\site-packages\\sklearn\\linear_model\\_sag.py:328: ConvergenceWarning: The max_iter was reached which means the coef_ did not converge\n",
      "  warnings.warn(\"The max_iter was reached which means \"\n",
      "C:\\Users\\saroj\\anaconda3\\lib\\site-packages\\sklearn\\linear_model\\_sag.py:328: ConvergenceWarning: The max_iter was reached which means the coef_ did not converge\n",
      "  warnings.warn(\"The max_iter was reached which means \"\n",
      "C:\\Users\\saroj\\anaconda3\\lib\\site-packages\\sklearn\\linear_model\\_sag.py:328: ConvergenceWarning: The max_iter was reached which means the coef_ did not converge\n",
      "  warnings.warn(\"The max_iter was reached which means \"\n",
      "C:\\Users\\saroj\\anaconda3\\lib\\site-packages\\sklearn\\linear_model\\_sag.py:328: ConvergenceWarning: The max_iter was reached which means the coef_ did not converge\n",
      "  warnings.warn(\"The max_iter was reached which means \"\n",
      "C:\\Users\\saroj\\anaconda3\\lib\\site-packages\\sklearn\\linear_model\\_sag.py:328: ConvergenceWarning: The max_iter was reached which means the coef_ did not converge\n",
      "  warnings.warn(\"The max_iter was reached which means \"\n",
      "C:\\Users\\saroj\\anaconda3\\lib\\site-packages\\sklearn\\linear_model\\_sag.py:328: ConvergenceWarning: The max_iter was reached which means the coef_ did not converge\n",
      "  warnings.warn(\"The max_iter was reached which means \"\n",
      "C:\\Users\\saroj\\anaconda3\\lib\\site-packages\\sklearn\\linear_model\\_sag.py:328: ConvergenceWarning: The max_iter was reached which means the coef_ did not converge\n",
      "  warnings.warn(\"The max_iter was reached which means \"\n",
      "C:\\Users\\saroj\\anaconda3\\lib\\site-packages\\sklearn\\linear_model\\_sag.py:328: ConvergenceWarning: The max_iter was reached which means the coef_ did not converge\n",
      "  warnings.warn(\"The max_iter was reached which means \"\n",
      "C:\\Users\\saroj\\anaconda3\\lib\\site-packages\\sklearn\\linear_model\\_sag.py:328: ConvergenceWarning: The max_iter was reached which means the coef_ did not converge\n",
      "  warnings.warn(\"The max_iter was reached which means \"\n",
      "C:\\Users\\saroj\\anaconda3\\lib\\site-packages\\sklearn\\linear_model\\_sag.py:328: ConvergenceWarning: The max_iter was reached which means the coef_ did not converge\n",
      "  warnings.warn(\"The max_iter was reached which means \"\n",
      "C:\\Users\\saroj\\anaconda3\\lib\\site-packages\\sklearn\\linear_model\\_sag.py:328: ConvergenceWarning: The max_iter was reached which means the coef_ did not converge\n",
      "  warnings.warn(\"The max_iter was reached which means \"\n",
      "C:\\Users\\saroj\\anaconda3\\lib\\site-packages\\sklearn\\linear_model\\_sag.py:328: ConvergenceWarning: The max_iter was reached which means the coef_ did not converge\n",
      "  warnings.warn(\"The max_iter was reached which means \"\n",
      "C:\\Users\\saroj\\anaconda3\\lib\\site-packages\\sklearn\\linear_model\\_sag.py:328: ConvergenceWarning: The max_iter was reached which means the coef_ did not converge\n",
      "  warnings.warn(\"The max_iter was reached which means \"\n",
      "C:\\Users\\saroj\\anaconda3\\lib\\site-packages\\sklearn\\linear_model\\_sag.py:328: ConvergenceWarning: The max_iter was reached which means the coef_ did not converge\n",
      "  warnings.warn(\"The max_iter was reached which means \"\n",
      "C:\\Users\\saroj\\anaconda3\\lib\\site-packages\\sklearn\\linear_model\\_sag.py:328: ConvergenceWarning: The max_iter was reached which means the coef_ did not converge\n",
      "  warnings.warn(\"The max_iter was reached which means \"\n",
      "C:\\Users\\saroj\\anaconda3\\lib\\site-packages\\sklearn\\linear_model\\_sag.py:328: ConvergenceWarning: The max_iter was reached which means the coef_ did not converge\n",
      "  warnings.warn(\"The max_iter was reached which means \"\n",
      "C:\\Users\\saroj\\anaconda3\\lib\\site-packages\\sklearn\\linear_model\\_sag.py:328: ConvergenceWarning: The max_iter was reached which means the coef_ did not converge\n",
      "  warnings.warn(\"The max_iter was reached which means \"\n",
      "C:\\Users\\saroj\\anaconda3\\lib\\site-packages\\sklearn\\linear_model\\_sag.py:328: ConvergenceWarning: The max_iter was reached which means the coef_ did not converge\n",
      "  warnings.warn(\"The max_iter was reached which means \"\n",
      "C:\\Users\\saroj\\anaconda3\\lib\\site-packages\\sklearn\\linear_model\\_sag.py:328: ConvergenceWarning: The max_iter was reached which means the coef_ did not converge\n",
      "  warnings.warn(\"The max_iter was reached which means \"\n",
      "C:\\Users\\saroj\\anaconda3\\lib\\site-packages\\sklearn\\linear_model\\_sag.py:328: ConvergenceWarning: The max_iter was reached which means the coef_ did not converge\n",
      "  warnings.warn(\"The max_iter was reached which means \"\n",
      "C:\\Users\\saroj\\anaconda3\\lib\\site-packages\\sklearn\\linear_model\\_sag.py:328: ConvergenceWarning: The max_iter was reached which means the coef_ did not converge\n",
      "  warnings.warn(\"The max_iter was reached which means \"\n",
      "C:\\Users\\saroj\\anaconda3\\lib\\site-packages\\sklearn\\linear_model\\_sag.py:328: ConvergenceWarning: The max_iter was reached which means the coef_ did not converge\n",
      "  warnings.warn(\"The max_iter was reached which means \"\n",
      "C:\\Users\\saroj\\anaconda3\\lib\\site-packages\\sklearn\\linear_model\\_sag.py:328: ConvergenceWarning: The max_iter was reached which means the coef_ did not converge\n",
      "  warnings.warn(\"The max_iter was reached which means \"\n",
      "C:\\Users\\saroj\\anaconda3\\lib\\site-packages\\sklearn\\linear_model\\_sag.py:328: ConvergenceWarning: The max_iter was reached which means the coef_ did not converge\n",
      "  warnings.warn(\"The max_iter was reached which means \"\n",
      "C:\\Users\\saroj\\anaconda3\\lib\\site-packages\\sklearn\\linear_model\\_sag.py:328: ConvergenceWarning: The max_iter was reached which means the coef_ did not converge\n",
      "  warnings.warn(\"The max_iter was reached which means \"\n",
      "C:\\Users\\saroj\\anaconda3\\lib\\site-packages\\sklearn\\linear_model\\_sag.py:328: ConvergenceWarning: The max_iter was reached which means the coef_ did not converge\n",
      "  warnings.warn(\"The max_iter was reached which means \"\n",
      "C:\\Users\\saroj\\anaconda3\\lib\\site-packages\\sklearn\\linear_model\\_sag.py:328: ConvergenceWarning: The max_iter was reached which means the coef_ did not converge\n",
      "  warnings.warn(\"The max_iter was reached which means \"\n",
      "C:\\Users\\saroj\\anaconda3\\lib\\site-packages\\sklearn\\linear_model\\_sag.py:328: ConvergenceWarning: The max_iter was reached which means the coef_ did not converge\n",
      "  warnings.warn(\"The max_iter was reached which means \"\n",
      "C:\\Users\\saroj\\anaconda3\\lib\\site-packages\\sklearn\\linear_model\\_sag.py:328: ConvergenceWarning: The max_iter was reached which means the coef_ did not converge\n",
      "  warnings.warn(\"The max_iter was reached which means \"\n",
      "C:\\Users\\saroj\\anaconda3\\lib\\site-packages\\sklearn\\linear_model\\_sag.py:328: ConvergenceWarning: The max_iter was reached which means the coef_ did not converge\n",
      "  warnings.warn(\"The max_iter was reached which means \"\n",
      "C:\\Users\\saroj\\anaconda3\\lib\\site-packages\\sklearn\\linear_model\\_sag.py:328: ConvergenceWarning: The max_iter was reached which means the coef_ did not converge\n",
      "  warnings.warn(\"The max_iter was reached which means \"\n",
      "C:\\Users\\saroj\\anaconda3\\lib\\site-packages\\sklearn\\linear_model\\_sag.py:328: ConvergenceWarning: The max_iter was reached which means the coef_ did not converge\n",
      "  warnings.warn(\"The max_iter was reached which means \"\n",
      "C:\\Users\\saroj\\anaconda3\\lib\\site-packages\\sklearn\\linear_model\\_sag.py:328: ConvergenceWarning: The max_iter was reached which means the coef_ did not converge\n",
      "  warnings.warn(\"The max_iter was reached which means \"\n",
      "C:\\Users\\saroj\\anaconda3\\lib\\site-packages\\sklearn\\linear_model\\_sag.py:328: ConvergenceWarning: The max_iter was reached which means the coef_ did not converge\n",
      "  warnings.warn(\"The max_iter was reached which means \"\n",
      "C:\\Users\\saroj\\anaconda3\\lib\\site-packages\\sklearn\\linear_model\\_sag.py:328: ConvergenceWarning: The max_iter was reached which means the coef_ did not converge\n",
      "  warnings.warn(\"The max_iter was reached which means \"\n",
      "C:\\Users\\saroj\\anaconda3\\lib\\site-packages\\sklearn\\linear_model\\_sag.py:328: ConvergenceWarning: The max_iter was reached which means the coef_ did not converge\n",
      "  warnings.warn(\"The max_iter was reached which means \"\n",
      "C:\\Users\\saroj\\anaconda3\\lib\\site-packages\\sklearn\\linear_model\\_sag.py:328: ConvergenceWarning: The max_iter was reached which means the coef_ did not converge\n",
      "  warnings.warn(\"The max_iter was reached which means \"\n",
      "C:\\Users\\saroj\\anaconda3\\lib\\site-packages\\sklearn\\linear_model\\_sag.py:328: ConvergenceWarning: The max_iter was reached which means the coef_ did not converge\n",
      "  warnings.warn(\"The max_iter was reached which means \"\n",
      "C:\\Users\\saroj\\anaconda3\\lib\\site-packages\\sklearn\\linear_model\\_sag.py:328: ConvergenceWarning: The max_iter was reached which means the coef_ did not converge\n",
      "  warnings.warn(\"The max_iter was reached which means \"\n",
      "C:\\Users\\saroj\\anaconda3\\lib\\site-packages\\sklearn\\linear_model\\_sag.py:328: ConvergenceWarning: The max_iter was reached which means the coef_ did not converge\n",
      "  warnings.warn(\"The max_iter was reached which means \"\n",
      "C:\\Users\\saroj\\anaconda3\\lib\\site-packages\\sklearn\\linear_model\\_sag.py:328: ConvergenceWarning: The max_iter was reached which means the coef_ did not converge\n",
      "  warnings.warn(\"The max_iter was reached which means \"\n",
      "C:\\Users\\saroj\\anaconda3\\lib\\site-packages\\sklearn\\linear_model\\_sag.py:328: ConvergenceWarning: The max_iter was reached which means the coef_ did not converge\n",
      "  warnings.warn(\"The max_iter was reached which means \"\n",
      "C:\\Users\\saroj\\anaconda3\\lib\\site-packages\\sklearn\\linear_model\\_sag.py:328: ConvergenceWarning: The max_iter was reached which means the coef_ did not converge\n",
      "  warnings.warn(\"The max_iter was reached which means \"\n",
      "C:\\Users\\saroj\\anaconda3\\lib\\site-packages\\sklearn\\linear_model\\_sag.py:328: ConvergenceWarning: The max_iter was reached which means the coef_ did not converge\n",
      "  warnings.warn(\"The max_iter was reached which means \"\n",
      "C:\\Users\\saroj\\anaconda3\\lib\\site-packages\\sklearn\\linear_model\\_sag.py:328: ConvergenceWarning: The max_iter was reached which means the coef_ did not converge\n",
      "  warnings.warn(\"The max_iter was reached which means \"\n",
      "C:\\Users\\saroj\\anaconda3\\lib\\site-packages\\sklearn\\linear_model\\_sag.py:328: ConvergenceWarning: The max_iter was reached which means the coef_ did not converge\n",
      "  warnings.warn(\"The max_iter was reached which means \"\n",
      "C:\\Users\\saroj\\anaconda3\\lib\\site-packages\\sklearn\\linear_model\\_sag.py:328: ConvergenceWarning: The max_iter was reached which means the coef_ did not converge\n",
      "  warnings.warn(\"The max_iter was reached which means \"\n",
      "C:\\Users\\saroj\\anaconda3\\lib\\site-packages\\sklearn\\linear_model\\_sag.py:328: ConvergenceWarning: The max_iter was reached which means the coef_ did not converge\n",
      "  warnings.warn(\"The max_iter was reached which means \"\n",
      "C:\\Users\\saroj\\anaconda3\\lib\\site-packages\\sklearn\\linear_model\\_sag.py:328: ConvergenceWarning: The max_iter was reached which means the coef_ did not converge\n",
      "  warnings.warn(\"The max_iter was reached which means \"\n"
     ]
    },
    {
     "name": "stderr",
     "output_type": "stream",
     "text": [
      "C:\\Users\\saroj\\anaconda3\\lib\\site-packages\\sklearn\\linear_model\\_sag.py:328: ConvergenceWarning: The max_iter was reached which means the coef_ did not converge\n",
      "  warnings.warn(\"The max_iter was reached which means \"\n",
      "C:\\Users\\saroj\\anaconda3\\lib\\site-packages\\sklearn\\linear_model\\_sag.py:328: ConvergenceWarning: The max_iter was reached which means the coef_ did not converge\n",
      "  warnings.warn(\"The max_iter was reached which means \"\n"
     ]
    },
    {
     "data": {
      "text/plain": [
       "{'C': 100, 'solver': 'saga'}"
      ]
     },
     "execution_count": 20,
     "metadata": {},
     "output_type": "execute_result"
    }
   ],
   "source": [
    "# #GridSearchCV for logistic Regression\n",
    "\n",
    "#give all the possible parameters\n",
    "parameters = {'solver':('lbfgs', 'liblinear', 'sag', 'saga'),\n",
    "              'C': [100, 10, 1.0, 0.1, 0.01]}\n",
    "\n",
    "#assign the model and parameters\n",
    "clf_grid = GridSearchCV(clf, parameters)\n",
    "\n",
    "#apply gridsearchCV on training data\n",
    "clf_grid.fit(x_train, y_train)\n",
    "\n",
    "#get the best possible parameters for logistic regression\n",
    "clf_grid.best_params_"
   ]
  },
  {
   "cell_type": "code",
   "execution_count": null,
   "id": "0e915e89",
   "metadata": {
    "scrolled": false
   },
   "outputs": [],
   "source": [
    "#GridSearchCV for Support Vector Machine\n",
    "parameters = {'kernel': ('linear', 'poly', 'rbf', 'sigmoid'), 'C': [100, 10, 1.0, 0.1, 0.001], 'gamma': [100, 10, 1.0, 0.1]}\n",
    "\n",
    "svm_grid = GridSearchCV(svm, parameters)\n",
    "svm_grid.fit(x_train, y_train)\n",
    "svm_grid.best_params_"
   ]
  },
  {
   "cell_type": "code",
   "execution_count": 13,
   "id": "13d496d9",
   "metadata": {},
   "outputs": [
    {
     "data": {
      "text/plain": [
       "{'max_depth': 15, 'max_features': 'sqrt', 'n_estimators': 10}"
      ]
     },
     "execution_count": 13,
     "metadata": {},
     "output_type": "execute_result"
    }
   ],
   "source": [
    "#GridSearchCV for Random Forest\n",
    "parameters = {'max_features': ( 'sqrt', 'log2'), 'n_estimators': [100, 10, 1000],'max_depth': [5, 10, 15]}\n",
    "rf_grid = GridSearchCV(rf, parameters)\n",
    "rf_grid.fit(x_train, y_train)\n",
    "rf_grid.best_params_"
   ]
  },
  {
   "cell_type": "code",
   "execution_count": 15,
   "id": "31b5e870",
   "metadata": {},
   "outputs": [
    {
     "name": "stderr",
     "output_type": "stream",
     "text": [
      "C:\\Users\\saroj\\anaconda3\\lib\\site-packages\\sklearn\\neural_network\\_multilayer_perceptron.py:500: ConvergenceWarning: lbfgs failed to converge (status=1):\n",
      "STOP: TOTAL NO. of ITERATIONS REACHED LIMIT.\n",
      "\n",
      "Increase the number of iterations (max_iter) or scale the data as shown in:\n",
      "    https://scikit-learn.org/stable/modules/preprocessing.html\n",
      "  self.n_iter_ = _check_optimize_result(\"lbfgs\", opt_res, self.max_iter)\n",
      "C:\\Users\\saroj\\anaconda3\\lib\\site-packages\\sklearn\\neural_network\\_multilayer_perceptron.py:500: ConvergenceWarning: lbfgs failed to converge (status=1):\n",
      "STOP: TOTAL NO. of ITERATIONS REACHED LIMIT.\n",
      "\n",
      "Increase the number of iterations (max_iter) or scale the data as shown in:\n",
      "    https://scikit-learn.org/stable/modules/preprocessing.html\n",
      "  self.n_iter_ = _check_optimize_result(\"lbfgs\", opt_res, self.max_iter)\n",
      "C:\\Users\\saroj\\anaconda3\\lib\\site-packages\\sklearn\\neural_network\\_multilayer_perceptron.py:500: ConvergenceWarning: lbfgs failed to converge (status=1):\n",
      "STOP: TOTAL NO. of ITERATIONS REACHED LIMIT.\n",
      "\n",
      "Increase the number of iterations (max_iter) or scale the data as shown in:\n",
      "    https://scikit-learn.org/stable/modules/preprocessing.html\n",
      "  self.n_iter_ = _check_optimize_result(\"lbfgs\", opt_res, self.max_iter)\n",
      "C:\\Users\\saroj\\anaconda3\\lib\\site-packages\\sklearn\\neural_network\\_multilayer_perceptron.py:500: ConvergenceWarning: lbfgs failed to converge (status=1):\n",
      "STOP: TOTAL NO. of ITERATIONS REACHED LIMIT.\n",
      "\n",
      "Increase the number of iterations (max_iter) or scale the data as shown in:\n",
      "    https://scikit-learn.org/stable/modules/preprocessing.html\n",
      "  self.n_iter_ = _check_optimize_result(\"lbfgs\", opt_res, self.max_iter)\n",
      "C:\\Users\\saroj\\anaconda3\\lib\\site-packages\\sklearn\\neural_network\\_multilayer_perceptron.py:500: ConvergenceWarning: lbfgs failed to converge (status=1):\n",
      "STOP: TOTAL NO. of ITERATIONS REACHED LIMIT.\n",
      "\n",
      "Increase the number of iterations (max_iter) or scale the data as shown in:\n",
      "    https://scikit-learn.org/stable/modules/preprocessing.html\n",
      "  self.n_iter_ = _check_optimize_result(\"lbfgs\", opt_res, self.max_iter)\n",
      "C:\\Users\\saroj\\anaconda3\\lib\\site-packages\\sklearn\\neural_network\\_multilayer_perceptron.py:500: ConvergenceWarning: lbfgs failed to converge (status=1):\n",
      "STOP: TOTAL NO. of ITERATIONS REACHED LIMIT.\n",
      "\n",
      "Increase the number of iterations (max_iter) or scale the data as shown in:\n",
      "    https://scikit-learn.org/stable/modules/preprocessing.html\n",
      "  self.n_iter_ = _check_optimize_result(\"lbfgs\", opt_res, self.max_iter)\n"
     ]
    },
    {
     "data": {
      "text/plain": [
       "{'learning_rate': 'constant', 'solver': 'adam'}"
      ]
     },
     "execution_count": 15,
     "metadata": {},
     "output_type": "execute_result"
    }
   ],
   "source": [
    "#GridSearchCV for Neural Network\n",
    "parameters = {'solver':('sgd', 'lbfgs', 'adam'), 'learning_rate': ('constant', 'invscaling', 'adaptive')}\n",
    "\n",
    "nn_grid = GridSearchCV(nn, parameters)\n",
    "nn_grid.fit(x_train, y_train)\n",
    "nn_grid.best_params_"
   ]
  },
  {
   "cell_type": "markdown",
   "id": "bb6bd037",
   "metadata": {},
   "source": [
    "### Q3 Answer:\n",
    "    "
   ]
  },
  {
   "cell_type": "code",
   "execution_count": null,
   "id": "e2235873",
   "metadata": {},
   "outputs": [],
   "source": [
    "#calculate the average of train data and test data to see if the algorithms are overfitting\n",
    "print(\"The Average train score for all corresponding  modules are: \")\n",
    "print(np.mean(lrscores))\n",
    "print(np.mean(rfscores))\n",
    "print(np.mean(svmscores))\n",
    "print(np.mean(nnscores))\n",
    "\n",
    "lravg = np.mean(lrscores)\n",
    "rfavg = np.mean(rfscores)\n",
    "svmavg = np.mean(svmscores)\n",
    "nnavg = np.mean(nnscores)\n",
    "\n",
    "#performance on the test data\n",
    "lrpred = cross_val_predict(clf, x_test, y_test)\n",
    "rfpred = cross_val_predict(rf, x_test, y_test)\n",
    "svmpred = cross_val_predict(svm, x_test, y_test)\n",
    "nnpred = cross_val_predict(nn, x_test, y_test)\n",
    "\n",
    "#10 fold CV on test data\n",
    "lrscores_test = cross_val_score(clf, x_test, y_test, cv=10)\n",
    "rfscores_test = cross_val_score(rf, x_test, y_test, cv=10)\n",
    "svmscores_test = cross_val_score(svm, x_test, y_test, cv=10)\n",
    "nnscores_test = cross_val_score(nn, x_test, y_test, cv=10)\n",
    "\n",
    "\n",
    "#print the average test score\n",
    "print(\"The Average score of Test Data for all corresponding  modules are: \")\n",
    "print(np.mean(lrscores_test))\n",
    "print(np.mean(rfscores_test))\n",
    "print(np.mean(svmscores_test))\n",
    "print(np.mean(nnscores_test))"
   ]
  },
  {
   "cell_type": "markdown",
   "id": "bdc6fd8b",
   "metadata": {},
   "source": [
    "Interpretion: Since the average train score and average test is very similar, the algorithm is not overfitting or underfitting."
   ]
  },
  {
   "cell_type": "markdown",
   "id": "8bab43af",
   "metadata": {},
   "source": [
    "### Q4 Answer:"
   ]
  },
  {
   "cell_type": "code",
   "execution_count": null,
   "id": "b5f5c23c",
   "metadata": {},
   "outputs": [],
   "source": [
    "#develop a newural network model\n",
    "neural_network = MLPClassifier(solver = \"lbfgs\", alpha=1e-5, hidden_layer_sizes = (15,), random_state = 1, activation = \"relu\", learning_rate_init = 0.001).fit(x_train, y_train)\n",
    "\n",
    "#develop a function to implement machine learning\n",
    "def machine_learning(data, algorithm):\n",
    "    \n",
    "    #get the score of the corresponding algorithm\n",
    "    algorithm.score(x_test, y_test)\n",
    "    \n",
    "    #get the prediction score\n",
    "    y_pred=algorithm.predict(x_test)\n",
    "    \n",
    "    #label the confusion matrix with their appropriate classification name\n",
    "    labels=[\"Survived 5 years or longer\", \"Died within 5 year\"]\n",
    "    \n",
    "    #get the confusion matrix\n",
    "    cm=confusion_matrix(y_test, y_pred, labels=clf.classes_)\n",
    "    \n",
    "    #display the confusion matrix with the label\n",
    "    disp=ConfusionMatrixDisplay(confusion_matrix=cm, display_labels=labels)\n",
    "    \n",
    "    #assign a variable to display the plot\n",
    "    performancemetrics = disp.plot()\n",
    "    \n",
    "    #print classification report\n",
    "    print(classification_report(y_test, y_pred, labels=clf.classes_))\n",
    "    \n",
    "    #print roc curve\n",
    "    plot_roc_curve(algorithm, x_test, y_test)\n",
    "    \n",
    "    #return performance metrics\n",
    "    return performancemetrics\n",
    "\n",
    "#call the function\n",
    "machine_learning(data, neural_network)"
   ]
  },
  {
   "cell_type": "code",
   "execution_count": null,
   "id": "64ff2789",
   "metadata": {},
   "outputs": [],
   "source": []
  }
 ],
 "metadata": {
  "kernelspec": {
   "display_name": "Python 3 (ipykernel)",
   "language": "python",
   "name": "python3"
  },
  "language_info": {
   "codemirror_mode": {
    "name": "ipython",
    "version": 3
   },
   "file_extension": ".py",
   "mimetype": "text/x-python",
   "name": "python",
   "nbconvert_exporter": "python",
   "pygments_lexer": "ipython3",
   "version": "3.9.7"
  }
 },
 "nbformat": 4,
 "nbformat_minor": 5
}
