{
 "cells": [
  {
   "cell_type": "markdown",
   "id": "7a0639f1",
   "metadata": {},
   "source": [
    "### Student Name: Saroj Lamichhane\n",
    "### BUSA 523\n",
    "\n",
    "    "
   ]
  },
  {
   "cell_type": "markdown",
   "id": "ab1d4d15",
   "metadata": {},
   "source": [
    "### Answer Q.1"
   ]
  },
  {
   "cell_type": "code",
   "execution_count": null,
   "id": "801d7db4",
   "metadata": {},
   "outputs": [],
   "source": [
    "#import random\n",
    "import random\n",
    "\n",
    "#create a variable for user's name to make it friendly\n",
    "user_name = input(\"Hello, what is your name? \")\n",
    "\n",
    "#create another variable to generate random number\n",
    "computer = random.randint(1, 20)\n",
    "\n",
    "print(user_name + \", lets play a game, I will choose one number between 1 and 20 and I will give you five chance to guess it right.\")\n",
    "\n",
    "#This is the variable that records the counts of userinput\n",
    "userinputcount = 0\n",
    "\n",
    "#using while loop\n",
    "while userinputcount<5:\n",
    "    userinput = int(input(\"Please enter any random numberm between 1 and 20: \"))\n",
    "    \n",
    "    userinputcount = userinputcount+1\n",
    "    \n",
    "    if userinput != computer:\n",
    "        print(\"Incorrect, Please try again!\")\n",
    "    else:\n",
    "#stop the game after the fifth incorrect attempt\n",
    "        break \n",
    "if userinput==computer:\n",
    "    print(\"Congratulations,\" + user_name +\".your guess is correct! You won the game.\")\n",
    "else:\n",
    "#also give user the correct answer if they loose the game\n",
    "    print(\"You lost the game, the correct answer is\", computer)\n",
    "\n",
    "\n"
   ]
  },
  {
   "cell_type": "markdown",
   "id": "468bcac6",
   "metadata": {},
   "source": [
    "### Answer Q.2"
   ]
  },
  {
   "cell_type": "code",
   "execution_count": null,
   "id": "39a40237",
   "metadata": {},
   "outputs": [],
   "source": [
    "import random\n",
    "\n",
    "user_name = input(\"Hello, what is your name? \")\n",
    "\n",
    "computer = random.randint(1, 20)\n",
    "\n",
    "print(user_name + \", lets play a game, I will choose one number between 1 and 20 and I will give you five chance to guess it right.\")\n",
    "\n",
    "userinputcount = 0\n",
    "\n",
    "while userinputcount<5:\n",
    "    userinput = int(input(\"Please enter any random numberm between 1 and 20: \"))\n",
    "    \n",
    "    userinputcount = userinputcount+1\n",
    "    \n",
    "#two conditions < and > are added and told the user if their values are higher or lower.\n",
    "    if userinput<computer:\n",
    "        print(\"Your guess is too low, please guess a higher number.\")\n",
    "        \n",
    "    elif userinput>computer:\n",
    "        print(\"Your guess is too high, please guess a lower number\")\n",
    "    else:\n",
    "        break\n",
    "if userinput==computer:\n",
    "    print(\"Congratulations,\" + user_name +\".your guess is correct! You won the game.\")\n",
    "else:\n",
    "    print(\"You lost the game, the correct answer is\", computer)\n",
    "\n",
    "\n"
   ]
  },
  {
   "cell_type": "markdown",
   "id": "5530b148",
   "metadata": {},
   "source": [
    "### Answer Q.3 "
   ]
  },
  {
   "cell_type": "code",
   "execution_count": 2,
   "id": "d73e3368",
   "metadata": {},
   "outputs": [
    {
     "name": "stdout",
     "output_type": "stream",
     "text": [
      "Please select Rock, Paper, Scissors, Lizard or Spock rock\n",
      "Invalid entry, please input the correct word to play the game!\n"
     ]
    }
   ],
   "source": [
    "import random \n",
    "\n",
    "#ask user for their input\n",
    "user = input(\"Please select Rock, Paper, Scissors, Lizard or Spock \")\n",
    "\n",
    "#getting five random numbers betwwn 1 and 5 \n",
    "randnum = random.randint(1, 5)\n",
    "\n",
    "#assigning each word to the numbers respectively\n",
    "if randnum == 1:\n",
    "    computer = \"Rock\"\n",
    "elif randnum ==2:\n",
    "    computer = \"Paper\"\n",
    "elif randnum ==3:\n",
    "    computer=\"Scissors\"\n",
    "elif randnum ==4:\n",
    "    computer = \"Lizard\"\n",
    "elif randnum == 5:\n",
    "    computer = \"Spock\"\n",
    "    \n",
    "#setting conditions.\n",
    "if user == computer:\n",
    "    (\"It's a tie!\")\n",
    "\n",
    "elif user == \"Rock\" and computer ==\"Lizard\":\n",
    "    print(\"You won.\")\n",
    "elif user ==\"Lizard\" and computer ==\"Spock\":\n",
    "    print(\"You won.\")\n",
    "elif user ==\"Spock\" and computer == \"Scissors\":\n",
    "    print(\"You won.\")\n",
    "elif user ==\"Scissors\" and computer ==\"Paper\":\n",
    "    print(\"You won.\")\n",
    "elif user ==\"Paper\" and computer==\"Rock\":\n",
    "    print(\"You won\")\n",
    "    \n",
    "elif user == \"Lizard\" and computer ==\"Rock\":\n",
    "    print(\"You Lost.\")\n",
    "elif user ==\"Spock\" and computer ==\"Lizard\":\n",
    "    print(\"You Lost.\")\n",
    "elif user ==\"Scissors\" and computer == \"Spock\":\n",
    "    print(\"You Lost.\")\n",
    "elif user ==\"Paper\" and computer ==\"Scissors\":\n",
    "    print(\"You Lost.\")\n",
    "elif user ==\"Rock\" and computer==\"Paper\":\n",
    "    print(\"You Lost\")\n",
    "    \n",
    "elif user == \"Rock\" and computer ==\"Spock\":\n",
    "    print(\"You Lost.\")\n",
    "elif user == \"Rock\" and computer ==\"Scissors\":\n",
    "    print(\"You Won.\")\n",
    "elif user == \"Lizard\" and computer ==\"Paper\":\n",
    "    print(\"You Won.\")\n",
    "elif user == \"Lizard\" and computer ==\"Scissors\":\n",
    "    print(\"You Lost.\")    \n",
    "elif user == \"Spock\" and computer ==\"Paper\":\n",
    "    print(\"You Lost.\")\n",
    "elif user == \"Spock\" and computer ==\"Rock\":\n",
    "    print(\"You Won.\")\n",
    "elif user == \"Scissors\" and computer ==\"Rock\":\n",
    "    print(\"You Lost.\")\n",
    "elif user == \"Scissors\" and computer ==\"Lizard\":\n",
    "    print(\"You Won.\")\n",
    "elif user == \"Paper\" and computer ==\"Spock\":\n",
    "    print(\"You Won.\")\n",
    "elif user == \"Paper\" and computer ==\"Lizard\":\n",
    "    print(\"You Lost.\")\n",
    "else:\n",
    "#if the user inputs something different, the game will give an error.\n",
    "    print(\"Invalid entry, please input the correct word to play the game!\")"
   ]
  },
  {
   "cell_type": "code",
   "execution_count": null,
   "id": "73be08af",
   "metadata": {},
   "outputs": [],
   "source": []
  },
  {
   "cell_type": "code",
   "execution_count": null,
   "id": "340ca2f1",
   "metadata": {},
   "outputs": [],
   "source": []
  }
 ],
 "metadata": {
  "kernelspec": {
   "display_name": "Python 3 (ipykernel)",
   "language": "python",
   "name": "python3"
  },
  "language_info": {
   "codemirror_mode": {
    "name": "ipython",
    "version": 3
   },
   "file_extension": ".py",
   "mimetype": "text/x-python",
   "name": "python",
   "nbconvert_exporter": "python",
   "pygments_lexer": "ipython3",
   "version": "3.9.7"
  }
 },
 "nbformat": 4,
 "nbformat_minor": 5
}
