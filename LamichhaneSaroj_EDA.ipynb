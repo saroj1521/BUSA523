{
 "cells": [
  {
   "cell_type": "markdown",
   "id": "6e39c286",
   "metadata": {},
   "source": [
    "## Student Name: Saroj Lamichhane\n",
    "## EDA"
   ]
  },
  {
   "cell_type": "markdown",
   "id": "f505bad9",
   "metadata": {},
   "source": [
    "Q1 Answer:"
   ]
  },
  {
   "cell_type": "code",
   "execution_count": 1,
   "id": "787917a4",
   "metadata": {},
   "outputs": [],
   "source": [
    "#Import pandas library\n",
    "import pandas as pd\n",
    "\n",
    "#import the data \n",
    "data=pd.read_csv(\"cancer.csv\")\n",
    "data\n",
    "\n",
    "#removing space in the column name\n",
    "data.columns=data.columns.str.strip()\n"
   ]
  },
  {
   "cell_type": "code",
   "execution_count": 2,
   "id": "4fd5ccf9",
   "metadata": {},
   "outputs": [
    {
     "data": {
      "text/html": [
       "<div>\n",
       "<style scoped>\n",
       "    .dataframe tbody tr th:only-of-type {\n",
       "        vertical-align: middle;\n",
       "    }\n",
       "\n",
       "    .dataframe tbody tr th {\n",
       "        vertical-align: top;\n",
       "    }\n",
       "\n",
       "    .dataframe thead th {\n",
       "        text-align: right;\n",
       "    }\n",
       "</style>\n",
       "<table border=\"1\" class=\"dataframe\">\n",
       "  <thead>\n",
       "    <tr style=\"text-align: right;\">\n",
       "      <th></th>\n",
       "      <th>Age</th>\n",
       "      <th>Year</th>\n",
       "      <th>Auxillary nodes</th>\n",
       "      <th>Survival</th>\n",
       "    </tr>\n",
       "  </thead>\n",
       "  <tbody>\n",
       "    <tr>\n",
       "      <th>count</th>\n",
       "      <td>305.000000</td>\n",
       "      <td>305.000000</td>\n",
       "      <td>305.000000</td>\n",
       "      <td>305.000000</td>\n",
       "    </tr>\n",
       "    <tr>\n",
       "      <th>mean</th>\n",
       "      <td>52.531148</td>\n",
       "      <td>62.849180</td>\n",
       "      <td>4.036066</td>\n",
       "      <td>1.265574</td>\n",
       "    </tr>\n",
       "    <tr>\n",
       "      <th>std</th>\n",
       "      <td>10.744024</td>\n",
       "      <td>3.254078</td>\n",
       "      <td>7.199370</td>\n",
       "      <td>0.442364</td>\n",
       "    </tr>\n",
       "    <tr>\n",
       "      <th>min</th>\n",
       "      <td>30.000000</td>\n",
       "      <td>58.000000</td>\n",
       "      <td>0.000000</td>\n",
       "      <td>1.000000</td>\n",
       "    </tr>\n",
       "    <tr>\n",
       "      <th>25%</th>\n",
       "      <td>44.000000</td>\n",
       "      <td>60.000000</td>\n",
       "      <td>0.000000</td>\n",
       "      <td>1.000000</td>\n",
       "    </tr>\n",
       "    <tr>\n",
       "      <th>50%</th>\n",
       "      <td>52.000000</td>\n",
       "      <td>63.000000</td>\n",
       "      <td>1.000000</td>\n",
       "      <td>1.000000</td>\n",
       "    </tr>\n",
       "    <tr>\n",
       "      <th>75%</th>\n",
       "      <td>61.000000</td>\n",
       "      <td>66.000000</td>\n",
       "      <td>4.000000</td>\n",
       "      <td>2.000000</td>\n",
       "    </tr>\n",
       "    <tr>\n",
       "      <th>max</th>\n",
       "      <td>83.000000</td>\n",
       "      <td>69.000000</td>\n",
       "      <td>52.000000</td>\n",
       "      <td>2.000000</td>\n",
       "    </tr>\n",
       "  </tbody>\n",
       "</table>\n",
       "</div>"
      ],
      "text/plain": [
       "              Age        Year  Auxillary nodes    Survival\n",
       "count  305.000000  305.000000       305.000000  305.000000\n",
       "mean    52.531148   62.849180         4.036066    1.265574\n",
       "std     10.744024    3.254078         7.199370    0.442364\n",
       "min     30.000000   58.000000         0.000000    1.000000\n",
       "25%     44.000000   60.000000         0.000000    1.000000\n",
       "50%     52.000000   63.000000         1.000000    1.000000\n",
       "75%     61.000000   66.000000         4.000000    2.000000\n",
       "max     83.000000   69.000000        52.000000    2.000000"
      ]
     },
     "execution_count": 2,
     "metadata": {},
     "output_type": "execute_result"
    }
   ],
   "source": [
    "#check the summary statistics of the data\n",
    "data.describe()"
   ]
  },
  {
   "cell_type": "markdown",
   "id": "6a0ab094",
   "metadata": {},
   "source": [
    "### What can you conclude from methods of central tendency and deviation of the variables?\n"
   ]
  },
  {
   "cell_type": "markdown",
   "id": "4f5566c2",
   "metadata": {},
   "source": [
    "Answer: The mean on the Age is 52.53 with the standard deviation of 10.74. We can conclude there is no huge gap in ages of patients.\n",
    "\n",
    "The standard deviation on Year is only 3.25 with the mean of 62.84, which tells most data lies towards the centre few variation.\n",
    "\n",
    "On Auxillary nodes, the standard deviation is 7.19 and the mean is 4.03. Standard deviation is higher than the mean, there is a huge variance in the data of Auxillary nodes.\n",
    "\n",
    "Survival is the dummy variable."
   ]
  },
  {
   "cell_type": "code",
   "execution_count": 3,
   "id": "20f78503",
   "metadata": {},
   "outputs": [
    {
     "data": {
      "text/plain": [
       "Age                0\n",
       "Year               0\n",
       "Auxillary nodes    0\n",
       "Survival           0\n",
       "dtype: int64"
      ]
     },
     "execution_count": 3,
     "metadata": {},
     "output_type": "execute_result"
    }
   ],
   "source": [
    "#check if there is a null value\n",
    "data.isnull().sum()"
   ]
  },
  {
   "cell_type": "code",
   "execution_count": 4,
   "id": "d0a4bde4",
   "metadata": {},
   "outputs": [
    {
     "data": {
      "text/plain": [
       "<AxesSubplot:>"
      ]
     },
     "execution_count": 4,
     "metadata": {},
     "output_type": "execute_result"
    },
    {
     "data": {
      "image/png": "[encoded data removed]",
      "text/plain": [
       "<Figure size 432x288 with 1 Axes>"
      ]
     },
     "metadata": {
      "needs_background": "light"
     },
     "output_type": "display_data"
    }
   ],
   "source": [
    "#draw a box plot to see if there is any outliers in the data\n",
    "data.plot.box()"
   ]
  },
  {
   "cell_type": "code",
   "execution_count": 5,
   "id": "7991af40",
   "metadata": {},
   "outputs": [
    {
     "data": {
      "text/plain": [
       "<AxesSubplot:>"
      ]
     },
     "execution_count": 5,
     "metadata": {},
     "output_type": "execute_result"
    },
    {
     "data": {
      "image/png": "[encoded data removed]",
      "text/plain": [
       "<Figure size 432x288 with 1 Axes>"
      ]
     },
     "metadata": {
      "needs_background": "light"
     },
     "output_type": "display_data"
    }
   ],
   "source": [
    "#remove upper bound data\n",
    "\n",
    "#use formula, upperbound=Q3+1.5*(Q2-Q1)\n",
    "upperbound=4 + 1.5*(4-0)\n",
    "\n",
    "#new data with column that has no outliers\n",
    "new_cancerdata=data[data[\"Auxillary nodes\"]<=upperbound]\n",
    "\n",
    "new_cancerdata.plot.box()"
   ]
  },
  {
   "cell_type": "code",
   "execution_count": 6,
   "id": "51caf32f",
   "metadata": {},
   "outputs": [
    {
     "data": {
      "text/html": [
       "<div>\n",
       "<style scoped>\n",
       "    .dataframe tbody tr th:only-of-type {\n",
       "        vertical-align: middle;\n",
       "    }\n",
       "\n",
       "    .dataframe tbody tr th {\n",
       "        vertical-align: top;\n",
       "    }\n",
       "\n",
       "    .dataframe thead th {\n",
       "        text-align: right;\n",
       "    }\n",
       "</style>\n",
       "<table border=\"1\" class=\"dataframe\">\n",
       "  <thead>\n",
       "    <tr style=\"text-align: right;\">\n",
       "      <th></th>\n",
       "      <th>Age</th>\n",
       "      <th>Year</th>\n",
       "      <th>Auxillary nodes</th>\n",
       "      <th>Survival</th>\n",
       "    </tr>\n",
       "  </thead>\n",
       "  <tbody>\n",
       "    <tr>\n",
       "      <th>Age</th>\n",
       "      <td>1.000000</td>\n",
       "      <td>0.092426</td>\n",
       "      <td>-0.108307</td>\n",
       "      <td>0.059688</td>\n",
       "    </tr>\n",
       "    <tr>\n",
       "      <th>Year</th>\n",
       "      <td>0.092426</td>\n",
       "      <td>1.000000</td>\n",
       "      <td>-0.006921</td>\n",
       "      <td>0.031328</td>\n",
       "    </tr>\n",
       "    <tr>\n",
       "      <th>Auxillary nodes</th>\n",
       "      <td>-0.108307</td>\n",
       "      <td>-0.006921</td>\n",
       "      <td>1.000000</td>\n",
       "      <td>0.236411</td>\n",
       "    </tr>\n",
       "    <tr>\n",
       "      <th>Survival</th>\n",
       "      <td>0.059688</td>\n",
       "      <td>0.031328</td>\n",
       "      <td>0.236411</td>\n",
       "      <td>1.000000</td>\n",
       "    </tr>\n",
       "  </tbody>\n",
       "</table>\n",
       "</div>"
      ],
      "text/plain": [
       "                      Age      Year  Auxillary nodes  Survival\n",
       "Age              1.000000  0.092426        -0.108307  0.059688\n",
       "Year             0.092426  1.000000        -0.006921  0.031328\n",
       "Auxillary nodes -0.108307 -0.006921         1.000000  0.236411\n",
       "Survival         0.059688  0.031328         0.236411  1.000000"
      ]
     },
     "execution_count": 6,
     "metadata": {},
     "output_type": "execute_result"
    }
   ],
   "source": [
    "#check the correlation\n",
    "relationship=new_cancerdata.corr()\n",
    "relationship"
   ]
  },
  {
   "cell_type": "markdown",
   "id": "ce62c57d",
   "metadata": {},
   "source": [
    "### Are there any correlated variables?"
   ]
  },
  {
   "cell_type": "markdown",
   "id": "75ea21d7",
   "metadata": {},
   "source": [
    "Answer: In a range from 0 to 1, the r is towards 0 which means there is no signigficant correlation between the variables."
   ]
  },
  {
   "cell_type": "code",
   "execution_count": 7,
   "id": "d662dbd4",
   "metadata": {},
   "outputs": [
    {
     "data": {
      "image/png": "[encoded data removed]",
      "text/plain": [
       "<Figure size 432x288 with 2 Axes>"
      ]
     },
     "metadata": {
      "needs_background": "light"
     },
     "output_type": "display_data"
    }
   ],
   "source": [
    "#visualize the correlation\n",
    "import seaborn as sns\n",
    "import matplotlib.pyplot as plt\n",
    "sns.heatmap(relationship)\n",
    "plt.show()"
   ]
  },
  {
   "cell_type": "code",
   "execution_count": 22,
   "id": "e96258a8",
   "metadata": {},
   "outputs": [
    {
     "data": {
      "text/plain": [
       "array([[<AxesSubplot:title={'center':'Age'}>,\n",
       "        <AxesSubplot:title={'center':'Year'}>],\n",
       "       [<AxesSubplot:title={'center':'Auxillary nodes'}>,\n",
       "        <AxesSubplot:title={'center':'Survival'}>]], dtype=object)"
      ]
     },
     "execution_count": 22,
     "metadata": {},
     "output_type": "execute_result"
    },
    {
     "data": {
      "image/png": "[encoded data removed]",
      "text/plain": [
       "<Figure size 432x288 with 4 Axes>"
      ]
     },
     "metadata": {
      "needs_background": "light"
     },
     "output_type": "display_data"
    }
   ],
   "source": [
    "#draw histogram to check skewness\n",
    "new_cancerdata.hist()"
   ]
  },
  {
   "cell_type": "markdown",
   "id": "ff95b193",
   "metadata": {},
   "source": [
    "### Interpret the skewness of the variables."
   ]
  },
  {
   "cell_type": "markdown",
   "id": "59098a5e",
   "metadata": {},
   "source": [
    "Answer: Age is normally distributed. Year is positively and negatively skewed and Auxillary nodes is skewed towards right.Since there are only 265 rown and 5 columns, it may be the best possible distribution of the data."
   ]
  },
  {
   "cell_type": "code",
   "execution_count": 23,
   "id": "be2844cc",
   "metadata": {},
   "outputs": [
    {
     "data": {
      "text/html": [
       "<div>\n",
       "<style scoped>\n",
       "    .dataframe tbody tr th:only-of-type {\n",
       "        vertical-align: middle;\n",
       "    }\n",
       "\n",
       "    .dataframe tbody tr th {\n",
       "        vertical-align: top;\n",
       "    }\n",
       "\n",
       "    .dataframe thead th {\n",
       "        text-align: right;\n",
       "    }\n",
       "</style>\n",
       "<table border=\"1\" class=\"dataframe\">\n",
       "  <thead>\n",
       "    <tr style=\"text-align: right;\">\n",
       "      <th></th>\n",
       "      <th>Age</th>\n",
       "      <th>Year</th>\n",
       "      <th>Auxillary nodes</th>\n",
       "      <th>Survival</th>\n",
       "    </tr>\n",
       "  </thead>\n",
       "  <tbody>\n",
       "    <tr>\n",
       "      <th>0</th>\n",
       "      <td>-2.078151</td>\n",
       "      <td>-0.258085</td>\n",
       "      <td>1.026790</td>\n",
       "      <td>-0.529333</td>\n",
       "    </tr>\n",
       "    <tr>\n",
       "      <th>1</th>\n",
       "      <td>-2.078151</td>\n",
       "      <td>0.661993</td>\n",
       "      <td>-0.973925</td>\n",
       "      <td>-0.529333</td>\n",
       "    </tr>\n",
       "    <tr>\n",
       "      <th>2</th>\n",
       "      <td>-1.986534</td>\n",
       "      <td>-1.178162</td>\n",
       "      <td>1.026740</td>\n",
       "      <td>-0.529333</td>\n",
       "    </tr>\n",
       "    <tr>\n",
       "      <th>3</th>\n",
       "      <td>-1.986534</td>\n",
       "      <td>0.661993</td>\n",
       "      <td>1.026826</td>\n",
       "      <td>-0.529333</td>\n",
       "    </tr>\n",
       "    <tr>\n",
       "      <th>4</th>\n",
       "      <td>-1.803300</td>\n",
       "      <td>-1.484854</td>\n",
       "      <td>1.026941</td>\n",
       "      <td>-0.529333</td>\n",
       "    </tr>\n",
       "    <tr>\n",
       "      <th>...</th>\n",
       "      <td>...</td>\n",
       "      <td>...</td>\n",
       "      <td>...</td>\n",
       "      <td>...</td>\n",
       "    </tr>\n",
       "    <tr>\n",
       "      <th>260</th>\n",
       "      <td>2.044615</td>\n",
       "      <td>-0.258085</td>\n",
       "      <td>1.026653</td>\n",
       "      <td>-0.529333</td>\n",
       "    </tr>\n",
       "    <tr>\n",
       "      <th>261</th>\n",
       "      <td>2.136233</td>\n",
       "      <td>1.275378</td>\n",
       "      <td>-0.973925</td>\n",
       "      <td>-0.529333</td>\n",
       "    </tr>\n",
       "    <tr>\n",
       "      <th>262</th>\n",
       "      <td>2.227850</td>\n",
       "      <td>0.661993</td>\n",
       "      <td>1.026790</td>\n",
       "      <td>-0.529333</td>\n",
       "    </tr>\n",
       "    <tr>\n",
       "      <th>263</th>\n",
       "      <td>2.319467</td>\n",
       "      <td>0.661993</td>\n",
       "      <td>1.026653</td>\n",
       "      <td>1.889171</td>\n",
       "    </tr>\n",
       "    <tr>\n",
       "      <th>264</th>\n",
       "      <td>2.777552</td>\n",
       "      <td>-1.484854</td>\n",
       "      <td>1.026740</td>\n",
       "      <td>1.889171</td>\n",
       "    </tr>\n",
       "  </tbody>\n",
       "</table>\n",
       "<p>265 rows × 4 columns</p>\n",
       "</div>"
      ],
      "text/plain": [
       "          Age      Year  Auxillary nodes  Survival\n",
       "0   -2.078151 -0.258085         1.026790 -0.529333\n",
       "1   -2.078151  0.661993        -0.973925 -0.529333\n",
       "2   -1.986534 -1.178162         1.026740 -0.529333\n",
       "3   -1.986534  0.661993         1.026826 -0.529333\n",
       "4   -1.803300 -1.484854         1.026941 -0.529333\n",
       "..        ...       ...              ...       ...\n",
       "260  2.044615 -0.258085         1.026653 -0.529333\n",
       "261  2.136233  1.275378        -0.973925 -0.529333\n",
       "262  2.227850  0.661993         1.026790 -0.529333\n",
       "263  2.319467  0.661993         1.026653  1.889171\n",
       "264  2.777552 -1.484854         1.026740  1.889171\n",
       "\n",
       "[265 rows x 4 columns]"
      ]
     },
     "execution_count": 23,
     "metadata": {},
     "output_type": "execute_result"
    }
   ],
   "source": [
    "#standardize and normalize by using scikit-learn library\n",
    "\n",
    "from sklearn.preprocessing import StandardScaler\n",
    "from sklearn.preprocessing import MinMaxScaler\n",
    "\n",
    "#standardize the data using scaler\n",
    "scaler=StandardScaler()\n",
    "scaler.fit(new_cancerdata)\n",
    "scaled=scaler.fit_transform(new_cancerdata)\n",
    "scaled_data=pd.DataFrame(scaled, columns=new_cancerdata.columns)\n",
    "scaled_data"
   ]
  },
  {
   "cell_type": "code",
   "execution_count": 24,
   "id": "89c2f44a",
   "metadata": {},
   "outputs": [],
   "source": [
    "#save the final file as csv\n",
    "new_cancerdata.to_csv(\"FinalEDACancer.csv\")"
   ]
  },
  {
   "cell_type": "code",
   "execution_count": null,
   "id": "f9eb8e4f",
   "metadata": {},
   "outputs": [],
   "source": []
  }
 ],
 "metadata": {
  "kernelspec": {
   "display_name": "Python 3 (ipykernel)",
   "language": "python",
   "name": "python3"
  },
  "language_info": {
   "codemirror_mode": {
    "name": "ipython",
    "version": 3
   },
   "file_extension": ".py",
   "mimetype": "text/x-python",
   "name": "python",
   "nbconvert_exporter": "python",
   "pygments_lexer": "ipython3",
   "version": "3.9.7"
  }
 },
 "nbformat": 4,
 "nbformat_minor": 5
}
